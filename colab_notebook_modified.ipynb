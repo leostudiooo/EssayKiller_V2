{
  "cells": [
    {
      "cell_type": "markdown",
      "metadata": {
        "id": "Q4CRI64E3ALS"
      },
      "source": [
        "[![GitHub stars](https://img.shields.io/github/stars/EssayKillerBrain/EssayKiller?style=social)](https://github.com/imcaspar/gpt2-ml)\n",
        "[![GitHub](https://img.shields.io/github/license/EssayKillerBrain/EssayKiller)](https://github.com/imcaspar/gpt2-ml)\n",
        "[![Twitter URL](https://img.shields.io/twitter/url?style=social&url=https%3A%2F%2Fgithub.com%2Fimcaspar%2Fgpt2-ml)](https://twitter.com/intent/tweet?text=Wow:&url=https://github.com/imcaspar/gpt2-ml)\n",
        "### 四十二使用指南:\n",
        "\n",
        "* 点击代码框左上角的▶️* 等待对应代码、模型文件下载\n",
        "* 输入参数，代表长度\n",
        "* 输入问题，等待AI回答\n",
        "\n",
        "之后就会生成对应回答，效果如下:"
      ]
    },
    {
      "cell_type": "code",
      "execution_count": null,
      "metadata": {
        "id": "zQXZlE4Y3ALV",
        "outputId": "98c43c93-514b-4691-ac7a-782bcab2bd0a",
        "colab": {
          "base_uri": "https://localhost:8080/"
        }
      },
      "outputs": [
        {
          "output_type": "stream",
          "name": "stdout",
          "text": [
            "预加载模块结束，请继续点击下方的▶️\n"
          ]
        }
      ],
      "source": [
        "#@title #参数与开源框架预加载\n",
        "!pip install pandas==0.24.2 &> tmp.log\n",
        "!pip install regex==2019.4.14 &> tmp.log\n",
        "!pip install h5py==2.10.0 &> tmp.log\n",
        "!pip install numpy==1.18.4 &> tmp.log\n",
        "!pip install tensorboard==1.15.0 &> tmp.log\n",
        "!pip install tensorflow-gpu==1.15.2 &> tmp.log\n",
        "!pip install tensorflow-estimator==1.15.1 &> tmp.log\n",
        "!pip install tqdm==4.31.1 &> tmp.log\n",
        "!pip install requests==2.22.0 &> tmp.log\n",
        "!pip install ujson==2.0.3 &> tmp.log\n",
        "!echo '预加载模块结束，请继续点击下方的▶️'\n",
        "#@title #Prerequisites"
      ]
    },
    {
      "cell_type": "code",
      "execution_count": null,
      "metadata": {
        "id": "D8ZH8hn33ALX"
      },
      "outputs": [],
      "source": [
        "#@title #模型框架加载模块\n",
        "%cd /home\n",
        "!git clone -b master https://github.com/EssayKillerBrain/EssayKiller_V2.git \n",
        "\n",
        "#%tensorflow_version 1.5.2-GPU/TPU\n",
        "!mkdir -p /home/EssayKiller_V2/LanguageNetwork/GPT2/finetune/trained_models\n",
        "\n",
        "%cd /home/EssayKiller_V2/LanguageNetwork/GPT2/finetune/\n",
        "!perl /home/EssayKiller_V2/LanguageNetwork/GPT2/scripts/gdown.pl https://drive.google.com/file/d/1A910UqSNBBi_SEoIDl15095T_5kojESO trained_models/model.ckpt-344000.data-00000-of-00001\n",
        "!wget -q --show-progress https://github.com/EssayKillerBrain/EssayKiller/releases/download/v1.0/model.ckpt-344000.index -P /home/EssayKiller_V2/LanguageNetwork/GPT2/finetune/trained_models\n",
        "!wget -q --show-progress https://github.com/EssayKillerBrain/EssayKiller/releases/download/v1.0/model.ckpt-344000.meta -P /home/EssayKiller_V2/LanguageNetwork/GPT2/finetune/trained_models\n",
        "!mv trained_models/model.ckpt-280000.data-00000-of-00001 trained_models/model.ckpt-344000.data-00000-of-00001\n",
        "!echo '模型下载完成，Git项目已构建，请继续点击下方的▶️'\n",
        "# If gdown.pl failed, please uncomment following code & exec"
      ]
    },
    {
      "cell_type": "markdown",
      "metadata": {
        "id": "CTDbNRRA3ALY"
      },
      "source": [
        "### 模型参数设置:\n",
        "\n",
        "* 1.回答最小篇幅：\n",
        "生成对应字数的回答，可自己调节长度，最长为1024个汉字。\n",
        "一般来说字数越短，AI表现越好。\n",
        "\n",
        "* 2.生成回答篇数：\n",
        "默认会生成1篇回答，生成时间取决于服务器状态\n",
        "受限于线上GPU内存，篇数最多为10。\n"
      ]
    },
    {
      "cell_type": "code",
      "execution_count": null,
      "metadata": {
        "id": "WQAv5YVc3ALY"
      },
      "outputs": [],
      "source": [
        "#!cat /usr/local/lib/python3.6/dist-packages/tensorflow_core/python/tpu/tpu_feed.py\n",
        "#@title #回答生成模块\n",
        "最小篇幅 = 900 #@param {type:\"number\", min:800, max:1024, step:1}\n",
        "生成篇数 = 1 #@param {type:\"number\", min:1, max:100, step:1}\n",
        "%mv /home/EssayKiller_V2/LanguageNetwork/GPT2/finetune/models/mega/* /home/EssayKiller_V2/LanguageNetwork/GPT2/finetune/trained_models/\n",
        "%cd /home/EssayKiller_V2/LanguageNetwork/GPT2/\n",
        "\n",
        "!echo '模型加载中，请稍后......'\n",
        "!PYTHONPATH=$(pwd) python scripts/demo.py -ckpt_fn finetune/trained_models/model.ckpt-344000 -min_len $最小篇幅 -samples $生成篇数\n",
        "!PYTHONPATH=$(pwd) python scripts/formatter.py -org_text result.txt"
      ]
    }
  ],
  "metadata": {
    "colab": {
      "name": "Copy of 四十二生成式AI | Base on 1.7B GPT2 Pretrained Essay Killer Brain, Modified By Leo Li",
      "provenance": [],
      "collapsed_sections": [],
      "include_colab_link": true
    },
    "kernelspec": {
      "name": "python3",
      "display_name": "Python 3"
    },
    "accelerator": "GPU"
  },
  "nbformat": 4,
  "nbformat_minor": 0
}
